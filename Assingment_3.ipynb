{
  "cells": [
    {
      "cell_type": "markdown",
      "metadata": {
        "id": "view-in-github",
        "colab_type": "text"
      },
      "source": [
        "<a href=\"https://colab.research.google.com/github/Jderrick97/Colab/blob/main/Assingment_3.ipynb\" target=\"_parent\"><img src=\"https://colab.research.google.com/assets/colab-badge.svg\" alt=\"Open In Colab\"/></a>"
      ]
    },
    {
      "cell_type": "code",
      "execution_count": null,
      "metadata": {
        "id": "he5eCgWwWPLU"
      },
      "outputs": [],
      "source": [
        "import torch\n",
        "import torch.nn as nn\n",
        "import torch.optim as optim\n",
        "from torch.utils.data import DataLoader, Dataset\n",
        "from torchvision import transforms\n",
        "from PIL import Image\n",
        "import os"
      ]
    },
    {
      "cell_type": "code",
      "execution_count": null,
      "metadata": {
        "colab": {
          "base_uri": "https://localhost:8080/"
        },
        "id": "REKVm8FbK_2g",
        "outputId": "8e97dfb3-35a9-47af-e354-4fbfbdaed06a"
      },
      "outputs": [
        {
          "output_type": "stream",
          "name": "stdout",
          "text": [
            "Mounted at /content/gdrive/\n"
          ]
        }
      ],
      "source": [
        "from google.colab import drive\n",
        "\n",
        "drive.mount('/content/gdrive/', force_remount=True)"
      ]
    },
    {
      "cell_type": "code",
      "execution_count": null,
      "metadata": {
        "colab": {
          "base_uri": "https://localhost:8080/"
        },
        "id": "iLvgo7yILnWx",
        "outputId": "98a6dfa6-6967-4777-b12e-44f95294a8b2"
      },
      "outputs": [
        {
          "output_type": "stream",
          "name": "stdout",
          "text": [
            "Looking in indexes: https://pypi.org/simple, https://us-python.pkg.dev/colab-wheels/public/simple/\n",
            "Requirement already satisfied: py7zr in /usr/local/lib/python3.9/dist-packages (0.20.4)\n",
            "Requirement already satisfied: texttable in /usr/local/lib/python3.9/dist-packages (from py7zr) (1.6.7)\n",
            "Requirement already satisfied: psutil in /usr/local/lib/python3.9/dist-packages (from py7zr) (5.9.4)\n",
            "Requirement already satisfied: pycryptodomex>=3.6.6 in /usr/local/lib/python3.9/dist-packages (from py7zr) (3.17)\n",
            "Requirement already satisfied: pybcj>=0.6.0 in /usr/local/lib/python3.9/dist-packages (from py7zr) (1.0.1)\n",
            "Requirement already satisfied: brotli>=1.0.9 in /usr/local/lib/python3.9/dist-packages (from py7zr) (1.0.9)\n",
            "Requirement already satisfied: multivolumefile>=0.2.3 in /usr/local/lib/python3.9/dist-packages (from py7zr) (0.2.3)\n",
            "Requirement already satisfied: pyzstd>=0.14.4 in /usr/local/lib/python3.9/dist-packages (from py7zr) (0.15.6)\n",
            "Requirement already satisfied: inflate64>=0.3.1 in /usr/local/lib/python3.9/dist-packages (from py7zr) (0.3.1)\n",
            "Requirement already satisfied: pyppmd<1.1.0,>=0.18.1 in /usr/local/lib/python3.9/dist-packages (from py7zr) (1.0.0)\n"
          ]
        }
      ],
      "source": [
        "!pip install py7zr\n",
        "import py7zr\n",
        "\n",
        "import py7zr\n",
        "with py7zr.SevenZipFile(\"/content/drive/MyDrive/Colab Notebooks/data.7z\", mode='r') as z:\n",
        "    z.extractall()"
      ]
    },
    {
      "cell_type": "code",
      "execution_count": null,
      "metadata": {
        "colab": {
          "base_uri": "https://localhost:8080/"
        },
        "id": "j3z9WUE1fH1U",
        "outputId": "acb06caa-18e7-47a3-bf07-4cb641cb9ad3"
      },
      "outputs": [
        {
          "output_type": "stream",
          "name": "stdout",
          "text": [
            "Epoch 1, batch 1, loss: 0.6908\n",
            "Epoch 1, batch 101, loss: 0.6907\n"
          ]
        }
      ],
      "source": [
        "# Define the autoencoder model\n",
        "class Autoencoder(nn.Module):\n",
        "    def __init__(self):\n",
        "        super(Autoencoder, self).__init__()\n",
        "        self.encoder = nn.Sequential(\n",
        "            nn.Conv2d(1, 16, kernel_size=3, stride=1, padding=1),\n",
        "            nn.ReLU(),\n",
        "            nn.MaxPool2d(kernel_size=2, stride=2),\n",
        "            nn.Conv2d(16, 8, kernel_size=3, stride=1, padding=1),\n",
        "            nn.ReLU(),\n",
        "            nn.MaxPool2d(kernel_size=2, stride=2),\n",
        "            nn.Conv2d(8, 8, kernel_size=3, stride=1, padding=1),\n",
        "            nn.ReLU(),\n",
        "            nn.MaxPool2d(kernel_size=2, stride=2))\n",
        "        self.decoder = nn.Sequential(\n",
        "            nn.ConvTranspose2d(8, 8, kernel_size=3, stride=2, padding=1, output_padding=1),\n",
        "            nn.ReLU(),\n",
        "            nn.ConvTranspose2d(8, 16, kernel_size=3, stride=2, padding=1, output_padding=1),\n",
        "            nn.ReLU(),\n",
        "            nn.ConvTranspose2d(16, 1, kernel_size=4, stride=2, padding=1),  # corrected layer\n",
        "            nn.Sigmoid())\n",
        "\n",
        "    def forward(self, x):\n",
        "        x = self.encoder(x)\n",
        "        x = self.decoder(x)\n",
        "        return x\n",
        "\n",
        "\n",
        "# Define the dataset class\n",
        "class DogsCatsDataset(Dataset):\n",
        "    def __init__(self, root_dir, transform=None):\n",
        "        self.root_dir = root_dir\n",
        "        self.transform = transform\n",
        "        self.file_names = os.listdir(root_dir)\n",
        "\n",
        "    def __len__(self):\n",
        "        return len(self.file_names)\n",
        "\n",
        "    def __getitem__(self, idx):\n",
        "        img_name = os.path.join(self.root_dir, self.file_names[idx])\n",
        "        image = Image.open(img_name).convert('L')  # convert to grayscale\n",
        "        image = transforms.Resize((28, 28))(image)  # resize to 28x28\n",
        "        image = transforms.Resize((56, 56))(image)  # upscale to 56x56\n",
        "        if self.transform:\n",
        "            image = self.transform(image)\n",
        "        return image, image\n",
        "\n",
        "# Define the transformations\n",
        "transform = transforms.Compose([\n",
        "    transforms.Resize((56, 56)),\n",
        "    transforms.ToTensor()])\n",
        "\n",
        "# Create the datasets and dataloaders\n",
        "train_dataset = DogsCatsDataset('train', transform=transform)\n",
        "test_dataset = DogsCatsDataset('test1', transform=transform)\n",
        "train_dataloader = DataLoader(train_dataset, batch_size=128, shuffle=True)\n",
        "test_dataloader = DataLoader(test_dataset, batch_size=128, shuffle=True)\n",
        "\n",
        "# Create the model and the optimizer\n",
        "autoencoder = Autoencoder()\n",
        "optimizer = optim.Adadelta(autoencoder.parameters())\n",
        "\n",
        "# Train the model\n",
        "for epoch in range(1):\n",
        "    for i, (inputs, _) in enumerate(train_dataloader):\n",
        "        noisy_inputs = inputs + 0.5 * torch.randn(inputs.size())  # add random noise\n",
        "        noisy_inputs = torch.clamp(noisy_inputs, 0., 1.)  # clip to [0, 1]\n",
        "        optimizer.zero_grad()\n",
        "        outputs = autoencoder(noisy_inputs)\n",
        "        loss = nn.functional.binary_cross_entropy(outputs, inputs)\n",
        "        loss.backward()\n",
        "        optimizer.step()\n",
        "        if i % 100 == 0:\n",
        "            print(f'Epoch {epoch+1}, batch {i+1}, loss: {loss.item():.4f}')\n",
        "\n"
      ]
    },
    {
      "cell_type": "code",
      "source": [
        "# Save the model\n",
        "torch.save(autoencoder.state_dict(), 'Autoencoder.pth')\n"
      ],
      "metadata": {
        "id": "SBDcH5lHWoh6"
      },
      "execution_count": null,
      "outputs": []
    },
    {
      "cell_type": "code",
      "source": [
        "import torch\n",
        "from torchvision import transforms\n",
        "from PIL import Image\n",
        "import numpy as np\n",
        "import matplotlib.pyplot as plt\n",
        "from torchvision.transforms.functional import to_tensor, to_pil_image\n",
        "\n",
        "# Load the saved PyTorch model\n",
        "model = Autoencoder()\n",
        "model.load_state_dict(torch.load('Autoencoder.pth'))\n",
        "model.eval()\n",
        "\n",
        "# Load the test image and preprocess it\n",
        "orig_image = Image.open('test1/12000.jpg').convert('L')\n",
        "resized_image = orig_image.copy().resize((28, 28))\n",
        "input_tensor = to_tensor(resized_image).unsqueeze(0)\n",
        "\n",
        "# Generate the output image\n",
        "with torch.no_grad():\n",
        "    output_tensor = model(input_tensor)\n",
        "output_image = to_pil_image(output_tensor.squeeze(0))\n",
        "\n",
        "# Plot the input, output, and ground truth images\n",
        "f, (ax1, ax2, ax3) = plt.subplots(3, sharex=True, sharey=True)\n",
        "ax1.imshow(resized_image)\n",
        "ax2.imshow(output_image)\n",
        "ax3.imshow(orig_image.copy().resize((56, 56)))\n",
        "plt.show()\n"
      ],
      "metadata": {
        "colab": {
          "base_uri": "https://localhost:8080/",
          "height": 434
        },
        "id": "U-Sd0joe_fsB",
        "outputId": "20edb976-bd58-43cf-ced1-5d9341eda0aa"
      },
      "execution_count": null,
      "outputs": [
        {
          "output_type": "display_data",
          "data": {
            "text/plain": [
              "<Figure size 640x480 with 3 Axes>"
            ],
            "image/png": "[encoded data removed]"
          },
          "metadata": {}
        }
      ]
    },
    {
      "cell_type": "code",
      "source": [
        "# Set the Colab run time to run continuously\n",
        "import IPython\n",
        "from google.colab import output\n",
        "\n",
        "display(IPython.display.Javascript('''\n",
        "  function ClickConnect(){\n",
        "    console.log(\"Working\"); \n",
        "    document.querySelector(\"colab-toolbar-button#connect\").click() \n",
        "  }\n",
        "  setInterval(ClickConnect,60000)\n",
        "'''))"
      ],
      "metadata": {
        "id": "VZMK4pUrYChO"
      },
      "execution_count": null,
      "outputs": []
    }
  ],
  "metadata": {
    "colab": {
      "provenance": [],
      "toc_visible": true,
      "mount_file_id": "1MzWuT0s8BidqryHrsR_OhEhWOGUrkBVA",
      "authorship_tag": "ABX9TyNJ2RHnxhvd6ZLbMOmXoP5X",
      "include_colab_link": true
    },
    "kernelspec": {
      "display_name": "Python 3",
      "name": "python3"
    },
    "language_info": {
      "name": "python"
    },
    "accelerator": "GPU",
    "gpuClass": "standard"
  },
  "nbformat": 4,
  "nbformat_minor": 0
}